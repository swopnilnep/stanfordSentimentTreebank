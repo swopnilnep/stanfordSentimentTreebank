{
 "cells": [
  {
   "cell_type": "code",
   "execution_count": 1,
   "metadata": {},
   "outputs": [],
   "source": [
    "import pandas as pd\n",
    "import numpy as np"
   ]
  },
  {
   "cell_type": "code",
   "execution_count": 2,
   "metadata": {},
   "outputs": [],
   "source": [
    "sen = pd.read_csv('../stanford_datafiles/datasetSentences.txt', sep=\"\\t\").set_index('sentence_index')\n",
    "\n",
    "lab = pd.read_csv('../stanford_datafiles/datasetSplit.txt', sep=\",\").set_index('sentence_index')\n",
    "\n",
    "df = pd.concat([sen, lab], axis=1, sort=False)\n",
    "\n",
    "df.to_csv('../1_sentiment.csv', index=False)"
   ]
  }
 ],
 "metadata": {
  "kernelspec": {
   "display_name": "Python 3",
   "language": "python",
   "name": "python3"
  },
  "language_info": {
   "codemirror_mode": {
    "name": "ipython",
    "version": 3
   },
   "file_extension": ".py",
   "mimetype": "text/x-python",
   "name": "python",
   "nbconvert_exporter": "python",
   "pygments_lexer": "ipython3",
   "version": "3.7.0"
  }
 },
 "nbformat": 4,
 "nbformat_minor": 2
}
