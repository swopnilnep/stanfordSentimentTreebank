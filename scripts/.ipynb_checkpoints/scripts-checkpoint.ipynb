{
 "cells": [
  {
   "cell_type": "code",
   "execution_count": 40,
   "metadata": {},
   "outputs": [],
   "source": [
    "import pandas as pd"
   ]
  },
  {
   "cell_type": "code",
   "execution_count": 42,
   "metadata": {},
   "outputs": [],
   "source": [
    "# clean\n",
    "df = pd.read_csv('../1_sentiment.csv')\n",
    "\n",
    "df['sentence'] = df.sentence.str.replace(\"'s\", '') # Removes nonalphabetic\n",
    "df['sentence'] = df.sentence.str.lower()\n",
    "\n",
    "df['sentence'] = df.sentence.str.replace('[^a-zA-Z ]', '') # Removes nonalphabetic\n",
    "df['sentence'] = df.sentence.str.replace('  ', '') # Removes double-space\n",
    "\n",
    "df.to_csv('../2_clean.csv', index=False)"
   ]
  },
  {
   "cell_type": "code",
   "execution_count": 43,
   "metadata": {},
   "outputs": [],
   "source": [
    "sen = pd.read_csv('../stanford_datafiles/datasetSentences.txt', sep=\"\\t\").set_index('sentence_index')\n",
    "\n",
    "lab = pd.read_csv('../stanford_datafiles/datasetSplit.txt', sep=\",\").set_index('sentence_index')\n",
    "\n",
    "df = pd.concat([sen, lab], axis=1, sort=False)\n",
    "\n",
    "df.to_csv('../1_sentiment.csv', index=False)"
   ]
  },
  {
   "cell_type": "code",
   "execution_count": 44,
   "metadata": {},
   "outputs": [],
   "source": [
    "df = pd.read_csv('../2_clean.csv')\n",
    "\n",
    "df[:8000].to_csv('../3_test.csv', index=False)\n",
    "df[8000:].to_csv('../3_train.csv', index=False)"
   ]
  },
  {
   "cell_type": "code",
   "execution_count": 45,
   "metadata": {},
   "outputs": [],
   "source": [
    "test = pd.read_csv('../3_test.csv')\n",
    "train = pd.read_csv('../3_train.csv')\n",
    "\n",
    "test[test['splitset_label'] == 1].to_csv('../4_test_negative.csv', index=False)\n",
    "test[test['splitset_label'] == 2].to_csv('../4_test_positive.csv', index=False)\n",
    "\n",
    "train[train['splitset_label'] == 1].to_csv('../4_train_negative.csv', index=False)\n",
    "train[train['splitset_label'] == 2].to_csv('../4_train_positive.csv', index=False)"
   ]
  }
 ],
 "metadata": {
  "kernelspec": {
   "display_name": "Python 3",
   "language": "python",
   "name": "python3"
  },
  "language_info": {
   "codemirror_mode": {
    "name": "ipython",
    "version": 3
   },
   "file_extension": ".py",
   "mimetype": "text/x-python",
   "name": "python",
   "nbconvert_exporter": "python",
   "pygments_lexer": "ipython3",
   "version": "3.7.0"
  }
 },
 "nbformat": 4,
 "nbformat_minor": 2
}
